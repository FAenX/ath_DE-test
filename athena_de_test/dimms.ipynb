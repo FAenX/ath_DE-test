{
 "cells": [
  {
   "cell_type": "code",
   "execution_count": 1,
   "metadata": {},
   "outputs": [],
   "source": [
    "from pyspark.sql import SparkSession\n",
    "import pyspark.sql.functions as F\n",
    "import os"
   ]
  },
  {
   "cell_type": "code",
   "execution_count": 2,
   "metadata": {},
   "outputs": [
    {
     "name": "stderr",
     "output_type": "stream",
     "text": [
      "Warning: Ignoring non-Spark config property: hive.metastore.uris\n",
      "Warning: Ignoring non-Spark config property: hive.hadoop.fs.s3a.access.key\n",
      "Warning: Ignoring non-Spark config property: hive.metastore.warehouse.dir\n",
      "Warning: Ignoring non-Spark config property: hive.hadoop.fs.s3a.secret.key\n",
      "Setting default log level to \"WARN\".\n",
      "To adjust logging level use sc.setLogLevel(newLevel). For SparkR, use setLogLevel(newLevel).\n"
     ]
    }
   ],
   "source": [
    "aws_access_key = os.environ[\"AWS_ACCESS_KEY\"]\n",
    "aws_secret_key = os.environ[\"AWS_SECRET_KEY\"]\n",
    "aws_region = os.environ[\"AWS_REGION\"]\n",
    "warehouse_location = os.environ[\"WAREHOUSE_LOCATION\"]\n",
    "metastore_uri = os.environ[\"METASTORE_URI\"]\n",
    "\n",
    "spark = SparkSession.builder.appName(\"Warehouse\")\\\n",
    "    .master(\"spark://spark-master:7077\") \\\n",
    "    .config(\"spark.hadoop.fs.s3a.aws.credentials.provider\", \"org.apache.hadoop.fs.s3a.SimpleAWSCredentialsProvider\") \\\n",
    "    .config(\"spark.hadoop.fs.s3a.access.key\", aws_access_key) \\\n",
    "    .config(\"spark.hadoop.fs.s3a.secret.key\", aws_secret_key) \\\n",
    "    .config(\"spark.sql.catalogImplementation\", \"hive\") \\\n",
    "    .config(\"spark.sql.warehouse.dir\", warehouse_location) \\\n",
    "    .config(\"spark.sql.hive.metastore.uris\", metastore_uri) \\\n",
    "    .config(\"hive.metastore.uris\", metastore_uri) \\\n",
    "    .config(\"hive.metastore.warehouse.dir\", warehouse_location) \\\n",
    "    .config(\"hive.hadoop.fs.s3a.access.key\", aws_access_key) \\\n",
    "    .config(\"hive.hadoop.fs.s3a.secret.key\", aws_secret_key) \\\n",
    "    .config(\"spark.sql.catalog.spark_catalog\", \"org.apache.spark.sql.delta.catalog.DeltaCatalog\") \\\n",
    "    .config(\"spark.sql.extensions\", \"io.delta.sql.DeltaSparkSessionExtension\") \\\n",
    "    .config(\"spark.driver.memory\", \"5G\") \\\n",
    "    .config(\"spark.memory.offHeap.size\",\"16g\") \\\n",
    "    .config(\"spark.memory.offHeap.enabled\", True) \\\n",
    "    .enableHiveSupport() \\\n",
    "    .getOrCreate()"
   ]
  },
  {
   "cell_type": "code",
   "execution_count": 3,
   "metadata": {},
   "outputs": [
    {
     "name": "stderr",
     "output_type": "stream",
     "text": [
      "                                                                                \r"
     ]
    },
    {
     "name": "stdout",
     "output_type": "stream",
     "text": [
      "+----------+\n",
      "|      date|\n",
      "+----------+\n",
      "|1990-01-01|\n",
      "|1991-01-01|\n",
      "|1992-01-01|\n",
      "|1993-01-01|\n",
      "|1994-01-01|\n",
      "|1995-01-01|\n",
      "|1996-01-01|\n",
      "|1997-01-01|\n",
      "|1998-01-01|\n",
      "|1999-01-01|\n",
      "|2000-01-01|\n",
      "|2001-01-01|\n",
      "|2002-01-01|\n",
      "|2003-01-01|\n",
      "|2004-01-01|\n",
      "|2005-01-01|\n",
      "|2006-01-01|\n",
      "|2007-01-01|\n",
      "|2008-01-01|\n",
      "|2009-01-01|\n",
      "+----------+\n",
      "only showing top 20 rows\n",
      "\n"
     ]
    },
    {
     "name": "stderr",
     "output_type": "stream",
     "text": [
      "                                                                                \r"
     ]
    },
    {
     "name": "stdout",
     "output_type": "stream",
     "text": [
      "+----------+------------+\n",
      "|      date|          id|\n",
      "+----------+------------+\n",
      "|2008-01-01|171798691840|\n",
      "|2007-01-01|163208757248|\n",
      "|2005-01-01|146028888064|\n",
      "|2014-01-01|223338299392|\n",
      "|2016-01-01|240518168576|\n",
      "|2017-01-01|249108103168|\n",
      "|2015-01-01|231928233984|\n",
      "|2010-01-01|188978561024|\n",
      "|2002-01-01|111669149696|\n",
      "|2013-01-01|214748364800|\n",
      "|2003-01-01|120259084288|\n",
      "|2001-01-01|103079215104|\n",
      "|2011-01-01|197568495616|\n",
      "|2018-01-01|257698037760|\n",
      "|1992-01-01| 25769803776|\n",
      "|1994-01-01| 42949672960|\n",
      "|1993-01-01| 34359738368|\n",
      "|1997-01-01| 68719476736|\n",
      "|2000-01-01| 94489280512|\n",
      "|1991-01-01| 17179869184|\n",
      "+----------+------------+\n",
      "only showing top 20 rows\n",
      "\n"
     ]
    }
   ],
   "source": [
    "dates = range(1990, 2020)\n",
    "dates_df = spark.createDataFrame(dates, \"string\").toDF(\"date\")\\\n",
    "    .withColumn(\"date\", F.expr(\"TO_DATE(CONCAT(date, '-01-01'), 'yyyy-MM-dd')\"))\n",
    "\n",
    "dates_df.show()\n",
    "dates_df = dates_df.withColumn(\"id\", F.monotonically_increasing_id())\n",
    "dates_df = dates_df.withColumn(\"id\", F.col(\"id\").cast(\"string\"))\n",
    "dates_df.write.format(\"delta\").mode(\"overwrite\").saveAsTable(\"dimensions.dates\")\n",
    "spark.sql(\"select * from dimensions.dates\").show()"
   ]
  },
  {
   "cell_type": "code",
   "execution_count": 4,
   "metadata": {},
   "outputs": [
    {
     "name": "stdout",
     "output_type": "stream",
     "text": [
      "+--------------------+----------+\n",
      "|region              |id        |\n",
      "+--------------------+----------+\n",
      "|central louisiana   |0         |\n",
      "|western KY          |1         |\n",
      "|southeast missouri  |2         |\n",
      "|heartland florida   |3         |\n",
      "|daytona beach       |4         |\n",
      "|texarkana           |5         |\n",
      "|sandusky            |6         |\n",
      "|pensacola           |7         |\n",
      "|south jersey        |8         |\n",
      "|new hampshire       |9         |\n",
      "|gold country        |10        |\n",
      "|san marcos          |11        |\n",
      "|harrisburg          |8589934592|\n",
      "|state college       |8589934593|\n",
      "|kansas city, MO     |8589934594|\n",
      "|fairbanks           |8589934595|\n",
      "|yakima              |8589934596|\n",
      "|moses lake          |8589934597|\n",
      "|huntsville / decatur|8589934598|\n",
      "|northern michigan   |8589934599|\n",
      "+--------------------+----------+\n",
      "only showing top 20 rows\n",
      "\n"
     ]
    },
    {
     "name": "stderr",
     "output_type": "stream",
     "text": [
      "                                                                                \r"
     ]
    }
   ],
   "source": [
    "regions = ['central louisiana', 'western KY', 'southeast missouri', 'heartland florida', 'daytona beach', 'texarkana', 'sandusky', 'pensacola', 'south jersey', 'new hampshire', 'gold country', 'san marcos', 'harrisburg', 'state college', 'kansas city, MO', 'fairbanks', 'yakima', 'moses lake', 'huntsville / decatur', 'northern michigan', 'south florida', 'saginaw-midland-baycity', 'potsdam-canton-massena', 'northwest OK', 'mcallen / edinburg', 'jackson', 'dallas / fort worth', 'northeast SD', 'long island', 'binghamton', 'richmond', 'reading', 'cumberland valley', 'atlanta', 'toledo', 'wilmington', 'lewiston / clarkston', 'susanville', 'peoria', 'jacksonville', 'eastern montana', 'central michigan', 'florence / muscle shoals', 'brownsville', 'hickory / lenoir', 'chicago', 'del rio / eagle pass', 'modesto', 'killeen / temple / ft hood', 'seattle-tacoma', 'waco', 'monroe', 'harrisonburg', 'skagit / island / SJI', 'brunswick', 'imperial county', 'terre haute', 'albany', 'charlottesville', 'denver', 'las cruces', 'provo / orem', 'louisville', 'inland empire', 'visalia-tulare', 'williamsport', 'youngstown', 'laredo', 'medford-ashland', 'roseburg', 'southwest TX', 'grand forks', 'southwest michigan', 'beaumont / port arthur', 'tampa bay area', 'la salle co', 'scottsbluff / panhandle', 'asheville', 'eau claire', 'green bay', 'stockton', 'st george', 'south dakota', 'charlotte', 'cincinnati', 'muncie / anderson', 'east oregon', 'meadville', 'sheboygan', 'knoxville', 'eugene', 'orange county', 'st louis, MO', 'manhattan', 'muskegon', 'northwest GA', 'wenatchee', 'madison', 'the thumb', 'greenville / upstate', 'meridian', 'twin falls', 'jersey shore', 'watertown', 'colorado springs', 'kennewick-pasco-richland', 'boston', 'boise', 'baton rouge', 'pueblo', 'lehigh valley', 'mansfield', 'kokomo', 'north dakota', 'chico', 'mobile', 'pittsburgh', 'west virginia (old)', 'kenai peninsula', 'jonesboro', 'wichita', 'santa maria', 'lake of the ozarks', 'orlando', 'la crosse', 'victoria', 'volkswagon', 'chattanooga', 'cleveland', 'akron / canton', 'winchester', 'bismarck', 'ashtabula', 'rhode island', 'ventura county', 'salem', 'bloomington', 'mattoon-charleston', 'north mississippi', 'ithaca', 'danville', 'san luis obispo', 'wausau', 'corpus christi', 'boone', 'zanesville / cambridge', 'annapolis', 'gulfport / biloxi', 'butte', 'bozeman', 'st louis', 'port huron', 'south bend / michiana', 'shreveport', 'southeast alaska', 'milwaukee', 'deep east texas', 'scranton / wilkes-barre', 'charleston', 'winston-salem', 'southwest KS', 'memphis', 'columbia / jeff city', 'lincoln', 'bowling green', 'champaign urbana', 'iowa city', 'eastern CO', 'lafayette / west lafayette', 'worcester / central MA', 'farmington', 'houma', 'okaloosa / walton', 'billings', 'grand rapids', 'bemidji', 'glens falls', 'clovis / portales', 'fort wayne', 'oregon coast', 'northern panhandle', 'decatur', 'tulsa', 'ogden-clearfield', 'lawrence', 'mendocino county', 'kalispell', 'holland', 'show low', 'little rock', 'syracuse', 'fort collins / north CO', 'catskills', 'huntington-ashland', 'monterey bay', 'washington, DC', 'oklahoma city', 'new orleans', 'indianapolis', 'lawton', 'high rockies', 'tuscaloosa', 'western IL', 'fredericksburg', 'savannah / hinesville', 'south coast', 'las vegas', 'cape cod / islands', 'wichita falls', 'battle creek', 'st cloud', 'hanford-corcoran', 'austin', 'space coast', 'omaha / council bluffs', 'outer banks', 'college station', 'san diego', 'ames', 'mason city', 'klamath falls', 'western slope', 'fort smith', 'southeast KS', 'tuscarawas co', 'southeast IA', 'grand island', 'southwest MN', 'southern illinois', 'sioux city', 'evansville', 'mankato', 'salina', 'lubbock', 'rockford', 'flagstaff / sedona', 'sacramento', 'macon / warner robins', 'odessa / midland', 'flint', 'delaware', 'anchorage / mat-su', 'fayetteville', 'SF bay area', 'montgomery', 'elko', 'treasure coast', 'clarksville', 'bakersfield', 'southwest VA', 'lancaster', 'kenosha-racine', 'parkersburg-marietta', 'kansas city', 'owensboro', 'lynchburg', 'tri-cities', 'des moines', 'baltimore', 'topeka', 'mohave county', 'tucson', 'logan', 'wyoming', 'pierre / central SD', 'hawaii', 'chautauqua', 'lansing', 'bellingham', 'redding', 'fort dodge', 'columbia', 'north platte', 'new york city', 'northern WI', 'appleton-oshkosh-FDL', 'western massachusetts', 'yuba-sutter', 'dothan', 'vermont', 'eastern kentucky', 'hattiesburg', 'utica-rome-oneida', 'bloomington-normal', 'lafayette', 'lake charles', 'boulder', 'houston', 'fargo / moorhead', 'bend', 'detroit metro', 'erie', 'columbus', 'statesboro', 'central NJ', 'southwest MS', 'eastern NC', 'el paso', 'new river valley', 'western maryland', 'philadelphia', 'phoenix', 'maine', 'raleigh / durham / CH', 'florence', 'joplin', 'dayton / springfield', 'janesville', 'palm springs', 'oneonta', 'rochester', 'birmingham', 'buffalo', 'north central FL', 'hilton head', 'roanoke', 'southern maryland', 'upper peninsula', 'humboldt county', 'fresno / madera', 'southern WV', 'galveston', 'albuquerque', 'valdosta', 'morgantown', 'lexington', 'ann arbor', 'missoula', \"spokane / coeur d'alene\", 'east idaho', 'poconos', 'hudson valley', 'panama city', 'sarasota-bradenton', 'cedar rapids', 'reno / tahoe', 'texoma', 'york', 'sioux falls / SE SD', 'portland', 'greensboro', 'augusta', 'tallahassee', 'salt lake city', ' 2012', 'north jersey', 'minneapolis / st paul', 'elmira-corning', 'dubuque', 'eastern shore', 'yuma', 'eastern CT', 'cookeville', 'stillwater', 'olympic peninsula', 'san antonio', 'waterloo / cedar falls', 'springfield', 'rapid city / west SD', 'plattsburgh-adirondacks', 'st joseph', 'hartford', 'lakeland', 'nashville', 'gadsden-anniston', 'abilene', 'santa fe / taos', 'lima / findlay', 'merced', 'siskiyou county', 'prescott', 'roswell / carlsbad', 'amarillo', 'sierra vista', 'florida keys', 'finger lakes', 'twin tiers NY/PA', 'brainerd', 'quad cities, IA/IL', 'pullman / moscow', 'los angeles', 'northwest CT', 'great falls', 'northwest KS', 'new haven', 'ft myers / SW florida', 'helena', 'fort smith, AR', 'ocala', 'st augustine', 'frederick', 'kalamazoo', 'altoona-johnstown', 'gainesville', 'san angelo', 'santa barbara', 'norfolk / hampton roads', 'duluth / superior', 'corvallis/albany', 'athens', 'tyler / east TX', 'kirksville', 'eastern panhandle', 'auburn']\n",
    "regions_df = spark.createDataFrame(regions, \"string\").toDF(\"region\")\n",
    "regions_df = regions_df.withColumn(\"id\", F.monotonically_increasing_id())\n",
    "regions_df = regions_df.withColumn(\"id\", F.col(\"id\").cast(\"string\"))\n",
    "regions_df.show(truncate=False)\n",
    "regions_df.write.format(\"delta\").mode(\"overwrite\").saveAsTable(\"dimensions.regions\")"
   ]
  },
  {
   "cell_type": "code",
   "execution_count": 5,
   "metadata": {},
   "outputs": [
    {
     "name": "stdout",
     "output_type": "stream",
     "text": [
      "+-----------+------------+\n",
      "|state      |id          |\n",
      "+-----------+------------+\n",
      "|alabama    |0           |\n",
      "|alaska     |8589934592  |\n",
      "|arizona    |8589934593  |\n",
      "|arkansas   |17179869184 |\n",
      "|california |25769803776 |\n",
      "|colorado   |25769803777 |\n",
      "|connecticut|34359738368 |\n",
      "|delaware   |42949672960 |\n",
      "|florida    |42949672961 |\n",
      "|georgia    |51539607552 |\n",
      "|hawaii     |60129542144 |\n",
      "|idaho      |60129542145 |\n",
      "|illinois   |68719476736 |\n",
      "|indiana    |68719476737 |\n",
      "|iowa       |77309411328 |\n",
      "|kansas     |85899345920 |\n",
      "|kentucky   |85899345921 |\n",
      "|louisiana  |94489280512 |\n",
      "|maine      |103079215104|\n",
      "|maryland   |103079215105|\n",
      "+-----------+------------+\n",
      "only showing top 20 rows\n",
      "\n"
     ]
    },
    {
     "name": "stderr",
     "output_type": "stream",
     "text": [
      "                                                                                \r"
     ]
    }
   ],
   "source": [
    "states = ['al', 'ak', 'az', 'ar', 'ca', 'co', 'ct', 'de', 'fl', 'ga', 'hi', 'id', 'il', 'in', 'ia', 'ks', 'ky', 'la', 'me', 'md', 'ma', 'mi', 'mn', 'ms', 'mo', 'mt', 'ne', 'nv', 'nh', 'nj', 'nm', 'ny', 'nc', 'nd', 'oh', 'ok', 'or', 'pa', 'ri', 'sc', 'sd', 'tn', 'tx', 'ut', 'vt', 'va', 'wa', 'wv', 'wi', 'wy']\n",
    "states_df = spark.createDataFrame(states, \"string\").toDF(\"state\")\n",
    "states_df = states_df.withColumn(\"id\", F.monotonically_increasing_id())\n",
    "states_df = states_df.withColumn(\"id\", F.col(\"id\").cast(\"string\"))\n",
    "states_df.show(truncate=False)\n",
    "states_df.write.format(\"delta\").mode(\"overwrite\").saveAsTable(\"dimensions.states\")"
   ]
  },
  {
   "cell_type": "code",
   "execution_count": 6,
   "metadata": {},
   "outputs": [
    {
     "name": "stdout",
     "output_type": "stream",
     "text": [
      "+----------------+------------+\n",
      "|car_manufacturer|id          |\n",
      "+----------------+------------+\n",
      "|acura           |0           |\n",
      "|alfa-romeo      |8589934592  |\n",
      "|aston-martin    |17179869184 |\n",
      "|audi            |25769803776 |\n",
      "|bmw             |25769803777 |\n",
      "|buick           |34359738368 |\n",
      "|cadillac        |42949672960 |\n",
      "|chevrolet       |51539607552 |\n",
      "|chrysler        |60129542144 |\n",
      "|datsun          |60129542145 |\n",
      "|dodge           |68719476736 |\n",
      "|ferrari         |77309411328 |\n",
      "|fiat            |85899345920 |\n",
      "|ford            |94489280512 |\n",
      "|gmc             |94489280513 |\n",
      "|honda           |103079215104|\n",
      "|hyundai         |111669149696|\n",
      "|infiniti        |120259084288|\n",
      "|jaguar          |128849018880|\n",
      "|jeep            |128849018881|\n",
      "+----------------+------------+\n",
      "only showing top 20 rows\n",
      "\n"
     ]
    },
    {
     "name": "stderr",
     "output_type": "stream",
     "text": [
      "                                                                                \r"
     ]
    }
   ],
   "source": [
    "car_manufacturers = ['acura', 'alfa-romeo', 'aston-martin', 'audi', 'bmw', 'buick', 'cadillac', 'chevrolet', 'chrysler', 'datsun', 'dodge', 'ferrari', 'fiat', 'ford', 'gmc', 'honda', 'hyundai', 'infiniti', 'jaguar', 'jeep', 'kia', 'land rover', 'lexus', 'lincoln', 'mazda', 'mercedes-benz', 'mercury', 'mini', 'mitsubishi', 'nissan', 'pontiac', 'porsche', 'ram', 'rover', 'saturn', 'subaru', 'tesla', 'toyota', 'volkswagen', 'volvo']\n",
    "car_manufacturers_df = spark.createDataFrame(car_manufacturers, \"string\").toDF(\"car_manufacturer\")\n",
    "car_manufacturers_df = car_manufacturers_df.withColumn(\"id\", F.monotonically_increasing_id())\n",
    "car_manufacturers_df = car_manufacturers_df.withColumn(\"id\", F.col(\"id\").cast(\"string\"))\n",
    "car_manufacturers_df.show(truncate=False)\n",
    "car_manufacturers_df.write.format(\"delta\").mode(\"overwrite\").saveAsTable(\"dimensions.manufacturer\")"
   ]
  },
  {
   "cell_type": "code",
   "execution_count": 7,
   "metadata": {},
   "outputs": [],
   "source": [
    "spark.stop()"
   ]
  }
 ],
 "metadata": {
  "kernelspec": {
   "display_name": "athena-de-test-hCcz4DES-py3.11",
   "language": "python",
   "name": "python3"
  },
  "language_info": {
   "codemirror_mode": {
    "name": "ipython",
    "version": 3
   },
   "file_extension": ".py",
   "mimetype": "text/x-python",
   "name": "python",
   "nbconvert_exporter": "python",
   "pygments_lexer": "ipython3",
   "version": "3.11.7"
  }
 },
 "nbformat": 4,
 "nbformat_minor": 2
}
