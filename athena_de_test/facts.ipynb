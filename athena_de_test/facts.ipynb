{
 "cells": [
  {
   "cell_type": "code",
   "execution_count": 9,
   "metadata": {},
   "outputs": [],
   "source": [
    "from pyspark.sql import SparkSession\n",
    "import pyspark.sql.functions as F\n",
    "import os"
   ]
  },
  {
   "cell_type": "code",
   "execution_count": 10,
   "metadata": {},
   "outputs": [],
   "source": [
    "aws_access_key = os.environ[\"AWS_ACCESS_KEY\"]\n",
    "aws_secret_key = os.environ[\"AWS_SECRET_KEY\"]\n",
    "aws_region = os.environ[\"AWS_REGION\"]\n",
    "warehouse_location = os.environ[\"WAREHOUSE_LOCATION\"]\n",
    "metastore_uri = os.environ[\"METASTORE_URI\"]\n",
    "\n",
    "spark = SparkSession.builder.appName(\"Warehouse\")\\\n",
    "    .master(\"spark://spark-master:7077\") \\\n",
    "    .config(\"spark.hadoop.fs.s3a.aws.credentials.provider\", \"org.apache.hadoop.fs.s3a.SimpleAWSCredentialsProvider\") \\\n",
    "    .config(\"spark.hadoop.fs.s3a.access.key\", aws_access_key) \\\n",
    "    .config(\"spark.hadoop.fs.s3a.secret.key\", aws_secret_key) \\\n",
    "    .config(\"spark.sql.catalogImplementation\", \"hive\") \\\n",
    "    .config(\"spark.sql.warehouse.dir\", warehouse_location) \\\n",
    "    .config(\"spark.sql.hive.metastore.uris\", metastore_uri) \\\n",
    "    .config(\"hive.metastore.uris\", metastore_uri) \\\n",
    "    .config(\"hive.metastore.warehouse.dir\", warehouse_location) \\\n",
    "    .config(\"hive.hadoop.fs.s3a.access.key\", aws_access_key) \\\n",
    "    .config(\"hive.hadoop.fs.s3a.secret.key\", aws_secret_key) \\\n",
    "    .config(\"spark.sql.catalog.spark_catalog\", \"org.apache.spark.sql.delta.catalog.DeltaCatalog\") \\\n",
    "    .config(\"spark.sql.extensions\", \"io.delta.sql.DeltaSparkSessionExtension\") \\\n",
    "    .config(\"spark.driver.memory\", \"5G\") \\\n",
    "    .config(\"spark.memory.offHeap.size\",\"16g\") \\\n",
    "    .config(\"spark.memory.offHeap.enabled\", True) \\\n",
    "    .enableHiveSupport() \\\n",
    "    .getOrCreate()"
   ]
  },
  {
   "cell_type": "code",
   "execution_count": 11,
   "metadata": {},
   "outputs": [
    {
     "name": "stdout",
     "output_type": "stream",
     "text": [
      "+--------------------+-------------------+-----------+\n",
      "|           namespace|          tableName|isTemporary|\n",
      "+--------------------+-------------------+-----------+\n",
      "|craigslist_vehicl...|craigslist_vehicles|      false|\n",
      "+--------------------+-------------------+-----------+\n",
      "\n"
     ]
    }
   ],
   "source": [
    "spark.sql(\"show tables in craigslist_vehicles_bronze\").show()"
   ]
  },
  {
   "cell_type": "code",
   "execution_count": 12,
   "metadata": {},
   "outputs": [
    {
     "name": "stderr",
     "output_type": "stream",
     "text": [
      "                                                                                \r"
     ]
    },
    {
     "name": "stdout",
     "output_type": "stream",
     "text": [
      "+----------+--------------------------------------------------------------------------------+-----+-----+\n",
      "|year      |collect_list(region)                                                            |state|count|\n",
      "+----------+--------------------------------------------------------------------------------+-----+-----+\n",
      "|1900-01-01|[muncie / anderson]                                                             |in   |1    |\n",
      "|1901-01-01|[phoenix]                                                                       |az   |1    |\n",
      "|1903-01-01|[birmingham]                                                                    |al   |1    |\n",
      "|1903-01-01|[norfolk / hampton roads]                                                       |va   |1    |\n",
      "|1909-01-01|[tyler / east TX]                                                               |tx   |1    |\n",
      "|1920-01-01|[bend]                                                                          |or   |1    |\n",
      "|1923-01-01|[hartford]                                                                      |ct   |1    |\n",
      "|1923-01-01|[jacksonville]                                                                  |fl   |1    |\n",
      "|1923-01-01|[western massachusetts, worcester / central MA, south coast, cape cod / islands]|ma   |4    |\n",
      "|1923-01-01|[springfield]                                                                   |mo   |1    |\n",
      "|1923-01-01|[las vegas]                                                                     |nv   |1    |\n",
      "|1923-01-01|[knoxville]                                                                     |tn   |1    |\n",
      "|1923-01-01|[vermont, vermont]                                                              |vt   |2    |\n",
      "|1924-01-01|[phoenix]                                                                       |az   |1    |\n",
      "|1924-01-01|[mendocino county]                                                              |ca   |1    |\n",
      "|1924-01-01|[rhode island]                                                                  |ri   |1    |\n",
      "|1925-01-01|[bemidji]                                                                       |mn   |1    |\n",
      "|1925-01-01|[northwest OK]                                                                  |ok   |1    |\n",
      "|1925-01-01|[wichita falls]                                                                 |tx   |1    |\n",
      "|1926-01-01|[long island, syracuse]                                                         |ny   |2    |\n",
      "+----------+--------------------------------------------------------------------------------+-----+-----+\n",
      "only showing top 20 rows\n",
      "\n"
     ]
    },
    {
     "name": "stderr",
     "output_type": "stream",
     "text": [
      "                                                                                \r"
     ]
    }
   ],
   "source": [
    "year_id = spark.sql(\"\"\"\n",
    "    select distinct year, COLLECT_LIST(region), state, count(*) as count\n",
    "    from craigslist_vehicles_bronze.craigslist_vehicles\n",
    "    group by year, state\n",
    "\"\"\")\n",
    "year_id.show(truncate=False)\n",
    "year_id.write.mode(\"overwrite\").saveAsTable(\"facts.year_id\")"
   ]
  },
  {
   "cell_type": "code",
   "execution_count": 13,
   "metadata": {},
   "outputs": [
    {
     "name": "stderr",
     "output_type": "stream",
     "text": [
      "                                                                                \r"
     ]
    },
    {
     "name": "stdout",
     "output_type": "stream",
     "text": [
      "+----------+-------+--------------------------------------------------------------------------------+------------------------------------------------------------------------------+\n",
      "|year      |price  |collect_list(region)                                                            |state                                                                         |\n",
      "+----------+-------+--------------------------------------------------------------------------------+------------------------------------------------------------------------------+\n",
      "|1900-01-01|75.0   |[muncie / anderson]                                                             |in                                                                            |\n",
      "|1901-01-01|999.0  |[phoenix]                                                                       |az                                                                            |\n",
      "|1923-01-01|18500.0|[hartford]                                                                      |ct                                                                            |\n",
      "|1923-01-01|2200.0 |[jacksonville]                                                                  |fl                                                                            |\n",
      "|1923-01-01|74000.0|[cape cod / islands, south coast, western massachusetts, worcester / central MA]|ma                                                                            |\n",
      "|1923-01-01|29995.0|[las vegas]                                                                     |nv                                                                            |\n",
      "|1923-01-01|17000.0|[knoxville]                                                                     |tn                                                                            |\n",
      "|1923-01-01|43500.0|[vermont, vermont]                                                              |vt                                                                            |\n",
      "|1924-01-01|22000.0|[phoenix]                                                                       |az                                                                            |\n",
      "|1924-01-01|8000.0 |[mendocino county]                                                              |ca                                                                            |\n",
      "|1924-01-01|12500.0|[rhode island]                                                                  |ri                                                                            |\n",
      "|1925-01-01|9995.0 |[bemidji]                                                                       |mn                                                                            |\n",
      "|1925-01-01|10000.0|[northwest OK]                                                                  |ok                                                                            |\n",
      "|1925-01-01|15000.0|[wichita falls]                                                                 |tx                                                                            |\n",
      "|1927-01-01|12500.0|[albuquerque]                                                                   |nm                                                                            |\n",
      "|1927-01-01|15000.0|[columbus]                                                                      |oh                                                                            |\n",
      "|1928-01-01|13500.0|[kennewick-pasco-richland]                                                      | plus other refurbished/rebuilt items                                         |\n",
      "|1928-01-01|30800.0|[mohave county, tucson, yuma]                                                   |az                                                                            |\n",
      "|1928-01-01|17500.0|[skagit / island / SJI]                                                         |wa                                                                            |\n",
      "|1929-01-01|24900.0|[north jersey]                                                                  | or call with any questions. I can text you 3 short videos of it running.  $24|\n",
      "+----------+-------+--------------------------------------------------------------------------------+------------------------------------------------------------------------------+\n",
      "only showing top 20 rows\n",
      "\n"
     ]
    },
    {
     "name": "stderr",
     "output_type": "stream",
     "text": [
      "                                                                                \r"
     ]
    }
   ],
   "source": [
    "year_id_price = spark.sql(\"\"\"\n",
    "    select year, sum(price) as price, COLLECT_LIST(region), state\n",
    "    from craigslist_vehicles_bronze.craigslist_vehicles\n",
    "    where price is not null and price > 0\n",
    "    group by year, state\n",
    "\"\"\")\n",
    "year_id_price.show(truncate=False)\n",
    "year_id_price.write.mode(\"overwrite\").saveAsTable(\"facts.year_id_price\")"
   ]
  },
  {
   "cell_type": "code",
   "execution_count": 14,
   "metadata": {},
   "outputs": [
    {
     "name": "stderr",
     "output_type": "stream",
     "text": [
      "                                                                                \r"
     ]
    },
    {
     "name": "stdout",
     "output_type": "stream",
     "text": [
      "+------------+----------+--------------------------------------------------------------------------------------------------------------------+-----+-----+\n",
      "|manufacturer|year      |collect_list(region)                                                                                                |count|state|\n",
      "+------------+----------+--------------------------------------------------------------------------------------------------------------------+-----+-----+\n",
      "|acura       |1988-01-01|[yakima]                                                                                                            |1    |wa   |\n",
      "|acura       |1996-01-01|[south florida]                                                                                                     |1    |NULL |\n",
      "|acura       |1998-01-01|[modesto, sacramento, SF bay area]                                                                                  |3    |ca   |\n",
      "|acura       |2001-01-01|[albany]                                                                                                            |1    |ny   |\n",
      "|acura       |2001-01-01|[akron / canton, akron / canton, akron / canton, akron / canton, cincinnati, cleveland]                             |6    |oh   |\n",
      "|acura       |2002-01-01|[el paso]                                                                                                           |1    |tx   |\n",
      "|acura       |2003-01-01|[rhode island]                                                                                                      |1    |ri   |\n",
      "|acura       |2003-01-01|[st george]                                                                                                         |1    |ut   |\n",
      "|acura       |2005-01-01|[huntsville / decatur, huntsville / decatur, birmingham, birmingham, birmingham, birmingham, birmingham, birmingham]|8    |al   |\n",
      "|acura       |2005-01-01|[chicago, chicago, st louis, MO]                                                                                    |3    |il   |\n",
      "|acura       |2005-01-01|[las vegas, las vegas, las vegas]                                                                                   |3    |nv   |\n",
      "|acura       |2005-01-01|[rhode island]                                                                                                      |1    |ri   |\n",
      "|acura       |2006-01-01|[phoenix, tucson]                                                                                                   |2    |az   |\n",
      "|acura       |2006-01-01|[cape cod / islands, boston, boston, western massachusetts, worcester / central MA]                                 |5    |ma   |\n",
      "|acura       |2007-01-01|[hartford, hartford, new haven]                                                                                     |3    |ct   |\n",
      "|acura       |2007-01-01|[maine]                                                                                                             |1    |me   |\n",
      "|acura       |2008-01-01|[hartford, south jersey]                                                                                            |2    |NULL |\n",
      "|acura       |2008-01-01|[birmingham]                                                                                                        |1    |al   |\n",
      "|acura       |2008-01-01|[lexington]                                                                                                         |1    |ky   |\n",
      "|acura       |2008-01-01|[new hampshire]                                                                                                     |1    |nh   |\n",
      "+------------+----------+--------------------------------------------------------------------------------------------------------------------+-----+-----+\n",
      "only showing top 20 rows\n",
      "\n"
     ]
    },
    {
     "name": "stderr",
     "output_type": "stream",
     "text": [
      "                                                                                \r"
     ]
    }
   ],
   "source": [
    "manufacturer_year = spark.sql(\"\"\"\n",
    "    select distinct manufacturer, year, COLLECT_LIST(region), count(*) as count, state\n",
    "    from craigslist_vehicles_bronze.craigslist_vehicles\n",
    "    where manufacturer is not null and year is not null\n",
    "    group by manufacturer, year, state\n",
    "\"\"\")\n",
    "manufacturer_year.show(truncate=False)\n",
    "manufacturer_year.write.mode(\"overwrite\").saveAsTable(\"facts.manufacturer_year\")"
   ]
  },
  {
   "cell_type": "code",
   "execution_count": 15,
   "metadata": {},
   "outputs": [
    {
     "name": "stderr",
     "output_type": "stream",
     "text": [
      "                                                                                \r"
     ]
    },
    {
     "name": "stdout",
     "output_type": "stream",
     "text": [
      "+----------+----------------------------+----------+-----+\n",
      "|id        |collect_list(region)        |year      |state|\n",
      "+----------+----------------------------+----------+-----+\n",
      "|7301585649|[cleveland]                 |1958-01-01|oh   |\n",
      "|7301590460|[ventura county]            |2010-01-01|ca   |\n",
      "|7301591111|[williamsport]              |2018-01-01|pa   |\n",
      "|7301591170|[western massachusetts]     |2011-01-01|ma   |\n",
      "|7301591660|[memphis]                   |2008-01-01|tn   |\n",
      "|7301594230|[baton rouge]               |2019-01-01|la   |\n",
      "|7301594252|[tallahassee]               |2018-01-01|fl   |\n",
      "|7301594276|[redding]                   |2020-01-01|ca   |\n",
      "|7301594875|[santa barbara]             |2016-01-01|ca   |\n",
      "|7301595562|[pueblo]                    |2018-01-01|co   |\n",
      "|7301597073|[merced]                    |2017-01-01|ca   |\n",
      "|7301597103|[merced]                    |2020-01-01|ca   |\n",
      "|7301597908|[akron / canton]            |2021-01-01|oh   |\n",
      "|7301597969|[merced]                    |2019-01-01|ca   |\n",
      "|7301600009|[ventura county]            |2010-01-01|ca   |\n",
      "|7301601318|[killeen / temple / ft hood]|2009-01-01|tx   |\n",
      "|7301605520|[pensacola]                 |2020-01-01|fl   |\n",
      "|7301605618|[duluth / superior]         |2001-01-01|mn   |\n",
      "|7301607386|[knoxville]                 |2014-01-01|tn   |\n",
      "|7301609062|[charleston]                |2018-01-01|wv   |\n",
      "+----------+----------------------------+----------+-----+\n",
      "only showing top 20 rows\n",
      "\n"
     ]
    },
    {
     "name": "stderr",
     "output_type": "stream",
     "text": [
      "                                                                                \r"
     ]
    }
   ],
   "source": [
    "region_year = spark.sql(\"\"\"\n",
    "    select distinct id, COLLECT_LIST(region), year, state\n",
    "    from craigslist_vehicles_bronze.craigslist_vehicles\n",
    "    where region is not null and year is not null\n",
    "    group by id, year, state\n",
    "\"\"\")\n",
    "region_year.show(truncate=False)\n",
    "region_year.write.mode(\"overwrite\").saveAsTable(\"facts.region_year\")"
   ]
  },
  {
   "cell_type": "code",
   "execution_count": 16,
   "metadata": {},
   "outputs": [],
   "source": [
    "spark.stop()"
   ]
  }
 ],
 "metadata": {
  "kernelspec": {
   "display_name": "athena-de-test-hCcz4DES-py3.11",
   "language": "python",
   "name": "python3"
  },
  "language_info": {
   "codemirror_mode": {
    "name": "ipython",
    "version": 3
   },
   "file_extension": ".py",
   "mimetype": "text/x-python",
   "name": "python",
   "nbconvert_exporter": "python",
   "pygments_lexer": "ipython3",
   "version": "3.11.7"
  }
 },
 "nbformat": 4,
 "nbformat_minor": 2
}
